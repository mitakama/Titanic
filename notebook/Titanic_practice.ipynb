{
 "cells": [
  {
   "cell_type": "markdown",
   "metadata": {},
   "source": [
    "\n",
    "# 初学者向けPandas100本ノックver1.0.7（全回答&結果表示）\n",
    "##### Shift + Enter で各セルのコードが実行されます\n",
    "・print(ans[ 問題番号 ]) で回答コード例を表示  \n",
    "・Python3エンジニア認定データ分析試験にも沿った問題内容   \n",
    "・Pandasの各メソッドの説明は以下のサイトが分かりやすいです  \n",
    " 　[note.nkmk.me](https://note.nkmk.me/pandas/)  \n",
    "・\"Data for Titanic passengers\" from [VANDERBILT UNIVERSITY](https://biostat.app.vumc.org/wiki/Main/DataSets)  \n",
    "  \n",
    "**本コンテンツ作成時のpandasのバージョンは1.1.0**\n",
    "  \n",
    "作成日:2020年9月24日  \n",
    "最終更新日:2023年1月16日  \n",
    "再配布・改編不可  \n",
    "作成者：[kunishou](https://qiita.com/kunishou)"
   ]
  },
  {
   "cell_type": "code",
   "execution_count": 1,
   "metadata": {},
   "outputs": [
    {
     "name": "stdout",
     "output_type": "stream",
     "text": [
      "[answer0]\n",
      "\n",
      "このように回答コード例がここに表示されます。\n",
      "各問題の回答コード例を表示するときはprintの前の\n",
      "#を消して実行して下さい。\n",
      "\n",
      "コード例をセル内にコピー&ペーストし\n",
      "実行すると、正解のデータが表示されます\n"
     ]
    }
   ],
   "source": [
    "# Shift + Enterで題材データ、回答コードを読み込んで下さい\n",
    "\n",
    "import pandas as pd\n",
    "import glob\n",
    "\n",
    "#題材データをdfに読み込み(タイタニック号の乗客データ)\n",
    "def initialize1():\n",
    "    df = pd.read_csv('../input/titanic3.csv')\n",
    "    return df\n",
    "\n",
    "df = initialize1()\n",
    "\n",
    "#回答コードをansリストに格納\n",
    "path = sorted(glob.glob('../input/a_' + '*.txt'))\n",
    "\n",
    "ans = []\n",
    "\n",
    "for _ in range(len(path)):\n",
    "    with open(path[_], 'r',encoding='utf-8') as f:\n",
    "        ans.append(f.read())\n",
    "        \n",
    "print(ans[0])"
   ]
  },
  {
   "cell_type": "markdown",
   "metadata": {},
   "source": [
    "# Pandas基礎 (1 - 13)"
   ]
  },
  {
   "cell_type": "code",
   "execution_count": 2,
   "metadata": {},
   "outputs": [],
   "source": [
    "# 【1】\n",
    "# dfに読み込んだデータの最初の5行を表示\n",
    "\n",
    "#print(ans[1]) #回答表示\n",
    "df = initialize1() #初期化\n",
    "\n",
    "\n"
   ]
  },
  {
   "cell_type": "code",
   "execution_count": 3,
   "metadata": {},
   "outputs": [],
   "source": [
    "# 【2】\n",
    "# dfに読み込んだデータの最後の5行を表示\n",
    "\n",
    "#print(ans[2]) #回答表示\n",
    "df = initialize1() #初期化\n",
    "\n",
    "\n"
   ]
  },
  {
   "cell_type": "code",
   "execution_count": 4,
   "metadata": {},
   "outputs": [],
   "source": [
    "# 【3】\n",
    "# dfのDataFrameサイズを確認\n",
    "\n",
    "#print(ans[3]) #回答表示\n",
    "df = initialize1() #初期化\n",
    "\n",
    "\n"
   ]
  },
  {
   "cell_type": "code",
   "execution_count": 5,
   "metadata": {},
   "outputs": [],
   "source": [
    "# 【5】\n",
    "# dfのfareの列で昇順に並び替えて表示\n",
    "\n",
    "#print(ans[5]) #回答表示\n",
    "df = initialize1() #初期化\n",
    "\n",
    "\n"
   ]
  },
  {
   "cell_type": "code",
   "execution_count": 6,
   "metadata": {},
   "outputs": [],
   "source": [
    "# 【6】\n",
    "# df_copyにdfをコピーして、最初の5行を表示\n",
    "\n",
    "#print(ans[6]) #回答表示\n",
    "df = initialize1() #初期化\n"
   ]
  },
  {
   "cell_type": "code",
   "execution_count": 7,
   "metadata": {},
   "outputs": [],
   "source": [
    "# 【7】\n",
    "# ① dfの各列のデータ型を確認\n",
    "# ② dfのcabinの列のデータ型を確認\n",
    "\n",
    "#print(ans[7]) #回答表示\n",
    "df = initialize1() #初期化\n",
    "\n",
    "\n"
   ]
  },
  {
   "cell_type": "code",
   "execution_count": 8,
   "metadata": {},
   "outputs": [],
   "source": [
    "# 【8】\n",
    "# ① dfのpclassの列のデータ型をdtypeで確認\n",
    "# ② 数値型から文字型に変換し、データ型をdtypeで確認\n",
    "\n",
    "#print(ans[8]) #回答表示\n",
    "df = initialize1() #初期化\n",
    "\n",
    "\n"
   ]
  },
  {
   "cell_type": "code",
   "execution_count": 9,
   "metadata": {},
   "outputs": [],
   "source": [
    "# 【9】\n",
    "# dfのレコード数(行数)を確認\n",
    "\n",
    "#print(ans[9]) #回答表示\n",
    "df = initialize1() #初期化\n",
    "\n",
    "\n"
   ]
  },
  {
   "cell_type": "code",
   "execution_count": 10,
   "metadata": {},
   "outputs": [],
   "source": [
    "# 【10】\n",
    "# dfのレコード数(行数)、各列のデータ型、欠損値の有無を確認\n",
    "\n",
    "#print(ans[10]) #回答表示\n",
    "df = initialize1() #初期化\n",
    "\n",
    "\n"
   ]
  },
  {
   "cell_type": "code",
   "execution_count": 11,
   "metadata": {},
   "outputs": [],
   "source": [
    "# 【11】\n",
    "# dfのsex,cabinの列の要素を確認\n",
    "\n",
    "#print(ans[11]) #回答表示\n",
    "df = initialize1() #初期化\n",
    "\n",
    "\n"
   ]
  },
  {
   "cell_type": "code",
   "execution_count": 12,
   "metadata": {},
   "outputs": [],
   "source": [
    "# 【12】\n",
    "# dfの列名一覧をlist形式で表示\n",
    "\n",
    "#print(ans[12]) #回答表示\n",
    "df = initialize1() #初期化\n",
    "\n",
    "\n"
   ]
  },
  {
   "cell_type": "code",
   "execution_count": 13,
   "metadata": {},
   "outputs": [],
   "source": [
    "# 【13】\n",
    "# dfのインデックス一覧をndaaray形式で表示\n",
    "\n",
    "#print(ans[13]) #回答表示\n",
    "df = initialize1() #初期化#\n",
    "\n",
    "\n"
   ]
  },
  {
   "cell_type": "markdown",
   "metadata": {},
   "source": [
    "# データ抽出 (14 - 32)"
   ]
  },
  {
   "cell_type": "code",
   "execution_count": 14,
   "metadata": {},
   "outputs": [],
   "source": [
    "# 【14】\n",
    "# dfのnameの列のみ表示\n",
    "\n",
    "#print(ans[14]) #回答表示\n",
    "df = initialize1() #初期化\n",
    "\n",
    "\n"
   ]
  },
  {
   "cell_type": "code",
   "execution_count": 15,
   "metadata": {},
   "outputs": [],
   "source": [
    "# 【15】\n",
    "# dfのnameとsexの列のみ表示\n",
    "\n",
    "#print(ans[15]) #回答表示\n",
    "df = initialize1() #初期化\n",
    "\n",
    "\n"
   ]
  },
  {
   "cell_type": "code",
   "execution_count": 16,
   "metadata": {},
   "outputs": [],
   "source": [
    "# 【16】\n",
    "# dfのindex(行)の4行目までを表示\n",
    "\n",
    "#print(ans[16]) #回答表示\n",
    "df = initialize1() #初期化\n",
    "\n",
    "\n"
   ]
  },
  {
   "cell_type": "code",
   "execution_count": 17,
   "metadata": {},
   "outputs": [],
   "source": [
    "# 【17】\n",
    "# dfのindex(行)の4行目から10行目までを表示\n",
    "\n",
    "#print(ans[17]) #回答表示\n",
    "df = initialize1() #初期化\n",
    "\n",
    "\n"
   ]
  },
  {
   "cell_type": "code",
   "execution_count": 18,
   "metadata": {},
   "outputs": [],
   "source": [
    "# 【18】\n",
    "# locを使ってdf全体を表示\n",
    "\n",
    "#print(ans[18]) #回答表示\n",
    "df = initialize1() #初期化\n",
    "\n",
    "\n"
   ]
  },
  {
   "cell_type": "code",
   "execution_count": 19,
   "metadata": {},
   "outputs": [],
   "source": [
    "# 【19】\n",
    "# locを使ってdfのfare列をすべて表示\n",
    "\n",
    "#print(ans[19]) #回答表示\n",
    "df = initialize1() #初期化\n",
    "\n",
    "\n"
   ]
  },
  {
   "cell_type": "code",
   "execution_count": 20,
   "metadata": {},
   "outputs": [],
   "source": [
    "# 【20】\n",
    "# locを使ってdfのfare列の10のラベルまで表示\n",
    "\n",
    "#print(ans[20]) #回答表示\n",
    "df = initialize1() #初期化\n",
    "\n",
    "\n"
   ]
  },
  {
   "cell_type": "code",
   "execution_count": 21,
   "metadata": {
    "scrolled": true
   },
   "outputs": [],
   "source": [
    "# 【21】\n",
    "# locを使ってdfのnameとticketの列をすべて表示\n",
    "\n",
    "#print(ans[21]) #回答表示\n",
    "df = initialize1() #初期化\n",
    "\n",
    "\n"
   ]
  },
  {
   "cell_type": "code",
   "execution_count": 22,
   "metadata": {},
   "outputs": [],
   "source": [
    "# 【22】\n",
    "# locを使ってdfのnameからcabinまでの列をすべて表示\n",
    "\n",
    "#print(ans[22]) #回答表示\n",
    "df = initialize1() #初期化\n",
    "\n",
    "\n"
   ]
  },
  {
   "cell_type": "code",
   "execution_count": 23,
   "metadata": {},
   "outputs": [],
   "source": [
    "# 【23】\n",
    "# ilocを使ってdfのage列を5行目まで表示\n",
    "\n",
    "#print(ans[23]) #回答表示\n",
    "df = initialize1() #初期化\n",
    "\n",
    "\n"
   ]
  },
  {
   "cell_type": "code",
   "execution_count": 24,
   "metadata": {},
   "outputs": [],
   "source": [
    "# 【24】\n",
    "# dfのname,age,sexの列のみ抽出しdf_copyに格納\n",
    "# その後outputフォルダに「sample.csv」という名前のcsvファイルとして出力\n",
    "\n",
    "#print(ans[24]) #回答表示\n",
    "df = initialize1() #初期化\n",
    "\n",
    "\n"
   ]
  },
  {
   "cell_type": "code",
   "execution_count": 25,
   "metadata": {},
   "outputs": [],
   "source": [
    "# 【25】\n",
    "# dfのage列の値が30以上のデータのみ抽出\n",
    "\n",
    "#print(ans[25]) #回答表示\n",
    "df = initialize1() #初期化\n",
    "\n",
    "\n",
    "\n"
   ]
  },
  {
   "cell_type": "code",
   "execution_count": 26,
   "metadata": {},
   "outputs": [],
   "source": [
    "# 【26】\n",
    "# dfのsex列がfemaleのデータのみ抽出\n",
    "\n",
    "#print(ans[26]) #回答表示\n",
    "df = initialize1() #初期化\n",
    "\n",
    "\n"
   ]
  },
  {
   "cell_type": "code",
   "execution_count": 27,
   "metadata": {},
   "outputs": [],
   "source": [
    "# 【27】\n",
    "# dfのsex列がfemaleでかつageが40以上のデータのみ抽出\n",
    "\n",
    "#print(ans[27]) #回答表示\n",
    "df = initialize1() #初期化\n",
    "\n",
    "\n"
   ]
  },
  {
   "cell_type": "code",
   "execution_count": 28,
   "metadata": {},
   "outputs": [],
   "source": [
    "# 【28】\n",
    "# queryを用いてdfのsex列がfemaleでかつageが40以上のデータのみ抽出\n",
    "\n",
    "#print(ans[28]) #回答表示\n",
    "df = initialize1() #初期化\n",
    "\n",
    "\n"
   ]
  },
  {
   "cell_type": "code",
   "execution_count": 29,
   "metadata": {},
   "outputs": [],
   "source": [
    "# 【29】\n",
    "# dfのname列に文字列「Mrs」が含まれるデータを表示\n",
    "\n",
    "#print(ans[29]) #回答表示\n",
    "df = initialize1() #初期化\n",
    "\n",
    "\n"
   ]
  },
  {
   "cell_type": "code",
   "execution_count": 30,
   "metadata": {},
   "outputs": [],
   "source": [
    "# 【30】\n",
    "# dfの中で文字列型の列のみを表示\n",
    "\n",
    "#print(ans[30]) #回答表示\n",
    "df = initialize1() #初期化\n",
    "\n",
    "\n"
   ]
  },
  {
   "cell_type": "code",
   "execution_count": 31,
   "metadata": {},
   "outputs": [],
   "source": [
    "# 【31】\n",
    "# dfの各列の要素数の確認\n",
    "\n",
    "#print(ans[31]) #回答表示\n",
    "df = initialize1() #初期化\n",
    "\n",
    "\n"
   ]
  },
  {
   "cell_type": "code",
   "execution_count": 32,
   "metadata": {},
   "outputs": [],
   "source": [
    "# 【32】\n",
    "# dfのembarked列の要素と出現回数の確認\n",
    "\n",
    "#print(ans[32]) #回答表示\n",
    "df = initialize1() #初期化\n",
    "\n",
    "\n"
   ]
  },
  {
   "cell_type": "markdown",
   "metadata": {},
   "source": [
    "# データ加工 (33 - 58)"
   ]
  },
  {
   "cell_type": "code",
   "execution_count": 33,
   "metadata": {},
   "outputs": [],
   "source": [
    "# 【33】\n",
    "# dfのindex名が「3」のage列を\n",
    "# 30から40に変更し、先頭の5行を表示\n",
    "\n",
    "#print(ans[33]) #回答表示\n",
    "df = initialize1() #初期化\n",
    "\n",
    "\n"
   ]
  },
  {
   "cell_type": "code",
   "execution_count": 34,
   "metadata": {},
   "outputs": [],
   "source": [
    "# 【34】\n",
    "# dfのsex列にてmale→0、femlae→1に\n",
    "# 変更し、先頭の5行を表示\n",
    "\n",
    "#print(ans[34]) #回答表示\n",
    "df = initialize1() #初期化\n",
    "\n",
    "\n"
   ]
  },
  {
   "cell_type": "code",
   "execution_count": 35,
   "metadata": {
    "scrolled": true
   },
   "outputs": [],
   "source": [
    "# 【35】\n",
    "# dfのfare列に100を足して、\n",
    "# 先頭の5行を表示\n",
    "\n",
    "#print(ans[35]) #回答表示\n",
    "df = initialize1() #初期化\n",
    "\n",
    "\n"
   ]
  },
  {
   "cell_type": "code",
   "execution_count": 36,
   "metadata": {},
   "outputs": [],
   "source": [
    "# 【36】\n",
    "# dfのfare列に2を掛けて、\n",
    "# 先頭の5行を表示\n",
    "\n",
    "#print(ans[36]) #回答表示\n",
    "df = initialize1() #初期化\n",
    "\n",
    "\n"
   ]
  },
  {
   "cell_type": "code",
   "execution_count": 37,
   "metadata": {},
   "outputs": [],
   "source": [
    "# 【37】\n",
    "# dfのfare列を小数点以下で丸めて\n",
    "# 先頭の5行を表示\n",
    "\n",
    "#print(ans[37]) #回答表示\n",
    "df = initialize1() #初期化\n",
    "\n",
    "\n"
   ]
  },
  {
   "cell_type": "code",
   "execution_count": 38,
   "metadata": {},
   "outputs": [],
   "source": [
    "# 【38】\n",
    "# dfに列名「test」で値がすべて1の\n",
    "# カラムを追加し、先頭の5行を表示\n",
    "\n",
    "#print(ans[38]) #回答表示\n",
    "df = initialize1() #初期化\n",
    "\n",
    "\n"
   ]
  },
  {
   "cell_type": "code",
   "execution_count": 39,
   "metadata": {},
   "outputs": [],
   "source": [
    "# 【39】\n",
    "# dfにcabinとembarkedの列を「_」で\n",
    "# 結合した列を追加(列名は「test」)し、\n",
    "# 先頭の5行を表示\n",
    "\n",
    "#print(ans[39]) #回答表示\n",
    "df = initialize1() #初期化\n",
    "\n"
   ]
  },
  {
   "cell_type": "code",
   "execution_count": 40,
   "metadata": {},
   "outputs": [],
   "source": [
    "# 【40】\n",
    "# dfにageとembarkedの列を「_」で\n",
    "# 結合した列を追加(列名は「test」)し、\n",
    "# 先頭の5行を表示\n",
    "\n",
    "#print(ans[40]) #回答表示\n",
    "df = initialize1() #初期化\n",
    "\n",
    "\n"
   ]
  },
  {
   "cell_type": "code",
   "execution_count": 41,
   "metadata": {},
   "outputs": [],
   "source": [
    "# 【41】\n",
    "# dfからbodyの列を削除し、最初の5行を表示\n",
    "\n",
    "#print(ans[41]) #回答表示\n",
    "df = initialize1() #初期化\n",
    "\n"
   ]
  },
  {
   "cell_type": "code",
   "execution_count": 42,
   "metadata": {},
   "outputs": [],
   "source": [
    "# 【42】\n",
    "# dfからインデックス名「3」の行を削除し\n",
    "# 最初の5行を表示\n",
    "\n",
    "#print(ans[42]) #回答表示\n",
    "df = initialize1() #初期化\n",
    "\n",
    "\n"
   ]
  },
  {
   "cell_type": "code",
   "execution_count": 43,
   "metadata": {},
   "outputs": [],
   "source": [
    "# 【46】\n",
    "# dfのすべての列の欠損値数を確認\n",
    "#print(ans[46]) #回答表示\n",
    "df = initialize1() #初期化\n",
    "\n",
    "\n"
   ]
  },
  {
   "cell_type": "code",
   "execution_count": 44,
   "metadata": {},
   "outputs": [],
   "source": [
    "# 【47】\n",
    "# dfのage列の欠損値に30を代入\n",
    "# その後、ageの欠損値数を確認\n",
    "\n",
    "#print(ans[47]) #回答表示\n",
    "df = initialize1() #初期化\n",
    "\n",
    "\n"
   ]
  },
  {
   "cell_type": "code",
   "execution_count": 45,
   "metadata": {},
   "outputs": [],
   "source": [
    "# 【48】\n",
    "# dfでひとつでも欠損値がある行を削除\n",
    "# その後、dfの欠損値数を確認\n",
    "\n",
    "#print(ans[48]) #回答表示\n",
    "df = initialize1() #初期化\n",
    "\n",
    "\n"
   ]
  },
  {
   "cell_type": "code",
   "execution_count": 46,
   "metadata": {},
   "outputs": [],
   "source": [
    "# 【49】\n",
    "# dfのsurvivedの列をndarray形式(配列)で表示\n",
    "\n",
    "#print(ans[49]) #回答表示\n",
    "df = initialize1() #初期化\n",
    "\n",
    "\n"
   ]
  },
  {
   "cell_type": "code",
   "execution_count": 47,
   "metadata": {},
   "outputs": [],
   "source": [
    "# 【50】\n",
    "# dfの行をシャッフルして表示\n",
    "\n",
    "#print(ans[50]) #回答表示\n",
    "df = initialize1() #初期化\n",
    "\n",
    "\n"
   ]
  },
  {
   "cell_type": "code",
   "execution_count": 48,
   "metadata": {},
   "outputs": [],
   "source": [
    "# 【51】\n",
    "# dfの行をシャッフルし、インデックスを振り直して表示\n",
    "\n",
    "#print(ans[51]) #回答表示\n",
    "df = initialize1() #初期化\n",
    "\n",
    "\n"
   ]
  },
  {
   "cell_type": "code",
   "execution_count": 49,
   "metadata": {},
   "outputs": [],
   "source": [
    "# 【53】\n",
    "# dfのnameの列をすべて大文字に変換し表示\n",
    "\n",
    "#print(ans[53]) #回答表示\n",
    "df = initialize1() #初期化\n",
    "\n",
    "\n"
   ]
  },
  {
   "cell_type": "code",
   "execution_count": 50,
   "metadata": {},
   "outputs": [],
   "source": [
    "# 【54】\n",
    "# dfのnameの列をすべて小文字に変換し表示\n",
    "#print(ans[54]) #回答表示\n",
    "df = initialize1() #初期化\n",
    "\n",
    "\n"
   ]
  },
  {
   "cell_type": "code",
   "execution_count": 51,
   "metadata": {},
   "outputs": [],
   "source": [
    "# 【55】\n",
    "# dfのsex列に含まれる「female」という単語を「Python」に置換。\n",
    "#その後、1行目の「female」が「Python」に置き換わったことを確認\n",
    "\n",
    "#print(ans[55]) #回答表示\n",
    "df = initialize1() #初期化\n",
    "\n",
    "\n"
   ]
  },
  {
   "cell_type": "code",
   "execution_count": 52,
   "metadata": {},
   "outputs": [],
   "source": [
    "# 【56】\n",
    "# import reをインポート\n",
    "# dfのname列1行目の「Allen, Miss. Elisabeth Walton」の「Elisabeth」を消去\n",
    "# dfの一行目を確認\n",
    "\n",
    "#print(ans[56]) #回答表示\n",
    "df = initialize1() #初期化\n",
    "\n",
    "\n"
   ]
  },
  {
   "cell_type": "code",
   "execution_count": 53,
   "metadata": {},
   "outputs": [],
   "source": [
    "# 【66】\n",
    "# dfのage列の平均値を確認\n",
    "\n",
    "#print(ans[66]) #回答表示\n",
    "df = initialize1() #初期化\n",
    "\n",
    "\n"
   ]
  },
  {
   "cell_type": "code",
   "execution_count": 54,
   "metadata": {},
   "outputs": [],
   "source": [
    "# 【67】\n",
    "# dfのage列の中央値を確認\n",
    "\n",
    "#print(ans[67]) #回答表示\n",
    "df = initialize1() #初期化\n",
    "\n",
    "\n"
   ]
  },
  {
   "cell_type": "code",
   "execution_count": 55,
   "metadata": {},
   "outputs": [],
   "source": [
    "# 【72】\n",
    "# dfの基本統計量を確認(describe)\n",
    "\n",
    "#print(ans[72]) #回答表示\n",
    "df = initialize1() #初期化\n",
    "\n",
    "\n"
   ]
  },
  {
   "cell_type": "code",
   "execution_count": 56,
   "metadata": {},
   "outputs": [],
   "source": [
    "# 【73】\n",
    "# dfの各列間の(Pearson)相関係数を確認\n",
    "\n",
    "#print(ans[73]) #回答表示\n",
    "df = initialize1() #初期化\n",
    "\n",
    "\n"
   ]
  },
  {
   "cell_type": "code",
   "execution_count": 57,
   "metadata": {},
   "outputs": [],
   "source": [
    "# 【77】\n",
    "# dfのfare列の最大値の行名取得\n",
    "# dfのfare列の最小値の行名取得\n",
    "\n",
    "#print(ans[77]) #回答表示\n",
    "df = initialize1() #初期化\n",
    "\n",
    "\n"
   ]
  },
  {
   "cell_type": "code",
   "execution_count": 58,
   "metadata": {},
   "outputs": [],
   "source": [
    "# 【78】\n",
    "# dfのfare列の0、25、50、75、100パーセンタイルを取得\n",
    "\n",
    "#print(ans[78]) #回答表示\n",
    "df = initialize1() #初期化\n",
    "\n",
    "\n"
   ]
  },
  {
   "cell_type": "code",
   "execution_count": 59,
   "metadata": {},
   "outputs": [],
   "source": [
    "# 【79】\n",
    "# ①dfのage列の最頻値を取得\n",
    "# ②value_counts()にてage列の要素数を確認し、①の結果の妥当性を確認\n",
    "\n",
    "# print(ans[79]) #回答表示\n",
    "df = initialize1() #初期化\n",
    "\n",
    "\n"
   ]
  },
  {
   "cell_type": "markdown",
   "metadata": {},
   "source": [
    "# ラベリング (80 - 81)"
   ]
  },
  {
   "cell_type": "code",
   "execution_count": 60,
   "metadata": {},
   "outputs": [],
   "source": [
    "# 【80】\n",
    "#(from sklearn.preprocessing import LabelEncoder)をインポート\n",
    "# ラベルエンコーダのインスタンスを作成\n",
    "# dfのsex列をラベルエンコーディング\n",
    "# dfの先頭5行を表示\n",
    "\n",
    "#print(ans[80]) #回答表示\n",
    "df = initialize1() #初期化\n",
    "\n",
    "\n"
   ]
  },
  {
   "cell_type": "code",
   "execution_count": 61,
   "metadata": {},
   "outputs": [],
   "source": [
    "# 【81】\n",
    "# dfのsex列をOne-hotエンコーディング(ダミー変数に)し、\n",
    "# dfの先頭5行を表示\n",
    "\n",
    "#print(ans[81]) #回答表示\n",
    "df = initialize1() #初期化\n",
    "\n",
    "\n"
   ]
  },
  {
   "cell_type": "markdown",
   "metadata": {},
   "source": [
    "# Pandasプロット (82 - 89)\n",
    "Pandasプロットの機能については以下のサイトの説明が分かりやすいです  \n",
    "[自調自考の旅](https://own-search-and-study.xyz/2016/08/03/pandas%E3%81%AEplot%E3%81%AE%E5%85%A8%E5%BC%95%E6%95%B0%E3%82%92%E4%BD%BF%E3%81%84%E3%81%93%E3%81%AA%E3%81%99/)"
   ]
  },
  {
   "cell_type": "code",
   "execution_count": 62,
   "metadata": {},
   "outputs": [],
   "source": [
    "# 【82】\n",
    "# dfのすべての数値列のヒストグラムを表示\n",
    "#print(ans[82]) #回答表示\n",
    "df = initialize1() #初期化\n",
    "\n",
    "\n"
   ]
  },
  {
   "cell_type": "code",
   "execution_count": 63,
   "metadata": {},
   "outputs": [],
   "source": [
    "# 【83】\n",
    "# dfのage列をヒストグラムで表示\n",
    "\n",
    "#print(ans[83]) #回答表示\n",
    "df = initialize1() #初期化\n",
    "\n",
    "\n"
   ]
  },
  {
   "cell_type": "code",
   "execution_count": 64,
   "metadata": {},
   "outputs": [],
   "source": [
    "# 【87】\n",
    "# %matplotlib inlineを実行\n",
    "# (from pandas.plotting import scatter_matrixをインポート)\n",
    "# dfの各列間の散布図を表示\n",
    "\n",
    "#print(ans[87]) #回答表示\n",
    "df = initialize1() #初期化\n",
    "\n",
    "\n"
   ]
  },
  {
   "cell_type": "code",
   "execution_count": 65,
   "metadata": {},
   "outputs": [],
   "source": [
    "# 【88】\n",
    "# dfのage列とfare列で散布図を作成\n",
    "#print(ans[88]) #回答表示\n",
    "df = initialize1() #初期化\n",
    "\n",
    "\n"
   ]
  },
  {
   "cell_type": "code",
   "execution_count": 66,
   "metadata": {},
   "outputs": [],
   "source": [
    "# 【89】\n",
    "# 【88】で描画したグラフに「age-fare scatter」という\n",
    "# グラフタイトルをつける\n",
    "#print(ans[89]) #回答表示\n",
    "df = initialize1() #初期化\n",
    "\n",
    "\n"
   ]
  },
  {
   "cell_type": "markdown",
   "metadata": {},
   "source": [
    "# タイタニック号の生存者予測 (90 - 100)  \n",
    "これまで触れてきたタイタニック号の乗客データを使用して、乗客の生存有無を  \n",
    "予測してみます。  \n",
    "  \n",
    "※90～100については順番通りにやらないと上手く動作しません"
   ]
  },
  {
   "cell_type": "code",
   "execution_count": 67,
   "metadata": {},
   "outputs": [
    {
     "name": "stdout",
     "output_type": "stream",
     "text": [
      "[answer90]\n",
      "\n",
      "from sklearn.preprocessing import LabelEncoder\n",
      "\n",
      "le = LabelEncoder() #ラベルエンコーダのインスタンスを作成\n",
      "\n",
      "df_copy['sex'] = le.fit_transform(df_copy['sex']) #エンコーディング\n",
      "df_copy['embarked'] = le.fit_transform(df_copy['embarked'].astype(str))  #ここ、なぜかstrに変換しないとエラー発生\n",
      "df_copy.head()\n",
      "\n",
      "\n",
      "[Tips]\n",
      "・機械学習では文字列をそのまま、学習アルゴリズムに\n",
      "　入力できないため、数値に変換する。LabelEncoder()では\n",
      "　例えば、以下のように文字列を数値に変換する。\n",
      "\n",
      "　male → 0\n",
      "　female → 1\n",
      "\n",
      "・RandomForestなど決定木での分類問題を\n",
      "　解く場合には、ラベルエンコーディングする\n",
      "　ことが多い\n"
     ]
    }
   ],
   "source": [
    "# 【90】ラベルエンコーディング\n",
    "# (from sklearn.preprocessing import LabelEncoderをインポート)\n",
    "# df_copyのsexとembarked列をラベルエンコーディング\n",
    "# (df_copyはdfをコピーしたもの)\n",
    "\n",
    "print(ans[90]) #回答表示\n",
    "df_copy =df.copy()\n",
    "\n",
    "\n"
   ]
  },
  {
   "cell_type": "code",
   "execution_count": 68,
   "metadata": {},
   "outputs": [],
   "source": [
    "# 【91】欠損値確認\n",
    "# df_copyの欠損値を確認\n",
    "\n",
    "#print(ans[91]) #回答表示\n",
    "\n",
    "\n"
   ]
  },
  {
   "cell_type": "code",
   "execution_count": 69,
   "metadata": {},
   "outputs": [],
   "source": [
    "# 【92】欠損値補完\n",
    "# df_copyのage、fare列の欠損値を各列の平均値で補完\n",
    "\n",
    "#print(ans[92]) #回答表示\n",
    "\n",
    "\n"
   ]
  },
  {
   "cell_type": "code",
   "execution_count": 70,
   "metadata": {},
   "outputs": [],
   "source": [
    "# 【93】不要列の削除\n",
    "# df_copyの中で機械学習で使用しない不要な行を削除\n",
    "# (name, ticket, cabin, boat, body, home.destを削除)\n",
    "\n",
    "#print(ans[93]) #回答表示\n",
    "\n",
    "\n",
    "\n"
   ]
  },
  {
   "cell_type": "code",
   "execution_count": 71,
   "metadata": {},
   "outputs": [],
   "source": [
    "# 【94】ndarray形式への変換\n",
    "# ①df_copyのpclass、age、sex、fare、embarkedの列を抽出し、ndarray形式に変換\n",
    "# ②df_copyのsurvivedの列を抽出し、ndarray形式に変換\n",
    "# (①をfeatures、②をtargetという変数にそれぞれ格納)\n",
    "\n",
    "#print(ans[94]) #回答表示\n",
    "\n"
   ]
  },
  {
   "cell_type": "code",
   "execution_count": 72,
   "metadata": {},
   "outputs": [],
   "source": [
    "# 【95】学習データとテストデータに分割\n",
    "# (from sklearn.model_selection import  train_test_splitをインポート)\n",
    "# 【94】で作成したfeatrues、targetを学習データとテストデータに分割\n",
    "# ※分割時のパラメータは次を指定 test_size=0.3 random_state=0\n",
    "\n",
    "#print(ans[95]) #回答表示\n",
    "\n",
    "\n"
   ]
  },
  {
   "cell_type": "code",
   "execution_count": 73,
   "metadata": {},
   "outputs": [],
   "source": [
    "# 【96】学習の実行\n",
    "# (from sklearn.ensemble import RandomForestClassifierをインポート)\n",
    "# 学習データ(features、target)を用いランダムフォレストにて学習を実行\n",
    "# ※パラメータは次を指定 n_estimators=100 random_state=0\n",
    "\n",
    "#print(ans[96]) #回答表示\n",
    "\n",
    "\n"
   ]
  },
  {
   "cell_type": "code",
   "execution_count": 74,
   "metadata": {},
   "outputs": [],
   "source": [
    "# 【97】予測の実行\n",
    "# test_Xデータの乗客の生存を予測\n",
    "\n",
    "#print(ans[97]) #回答表示\n",
    "\n",
    "\n"
   ]
  },
  {
   "cell_type": "code",
   "execution_count": 75,
   "metadata": {},
   "outputs": [],
   "source": [
    "# 【98】予測精度の確認\n",
    "# (from sklearn.metrics import accuracy_scoreをインポート)\n",
    "# 予測結果がtest_y(生存有無の答え)とどれぐらい整合していたかを確認(評価指標はaccuracy)\n",
    "#print(ans[98]) #回答表示\n",
    "\n",
    "\n"
   ]
  },
  {
   "cell_type": "code",
   "execution_count": 76,
   "metadata": {},
   "outputs": [],
   "source": [
    "# 【99】重要度の確認\n",
    "# 学習における各列(特徴量)の重要度を表示\n",
    "\n",
    "#print(ans[99]) #回答表示\n",
    "\n",
    "\n",
    "\n"
   ]
  },
  {
   "cell_type": "code",
   "execution_count": 77,
   "metadata": {},
   "outputs": [],
   "source": [
    "# 【100】予測結果のcsv出力\n",
    "# test_Xの予測結果をcsvでoutputフォルダに出力(ファイル名は「submission.csv」)\n",
    "# (headerは不要)\n",
    "\n",
    "#print(ans[100]) #回答表示\n",
    "\n",
    "\n"
   ]
  },
  {
   "cell_type": "markdown",
   "metadata": {},
   "source": [
    "# ノックお疲れ様でした\n",
    "各セルのoutput表示をすべてクリアにしたい場合は、ツールバーの  \n",
    "「Kernel」→「Restart & Clear Output」を実行して下さい。"
   ]
  }
 ],
 "metadata": {
  "kernelspec": {
   "display_name": "Python 3 (ipykernel)",
   "language": "python",
   "name": "python3"
  },
  "language_info": {
   "codemirror_mode": {
    "name": "ipython",
    "version": 3
   },
   "file_extension": ".py",
   "mimetype": "text/x-python",
   "name": "python",
   "nbconvert_exporter": "python",
   "pygments_lexer": "ipython3",
   "version": "3.10.9"
  }
 },
 "nbformat": 4,
 "nbformat_minor": 4
}
